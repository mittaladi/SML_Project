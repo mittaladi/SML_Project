{
  "nbformat": 4,
  "nbformat_minor": 0,
  "metadata": {
    "colab": {
      "name": "SML_Project_cnn.ipynb",
      "version": "0.3.2",
      "provenance": []
    },
    "kernelspec": {
      "name": "python3",
      "display_name": "Python 3"
    },
    "accelerator": "GPU"
  },
  "cells": [
    {
      "metadata": {
        "id": "-tIopBPlP4Vp",
        "colab_type": "code",
        "outputId": "3da3fa0e-f658-4207-fbde-50e19c8a346f",
        "colab": {
          "base_uri": "https://localhost:8080/",
          "height": 34
        }
      },
      "cell_type": "code",
      "source": [
        "from google.colab import drive\n",
        "drive.mount('/content/gdrive')"
      ],
      "execution_count": 0,
      "outputs": [
        {
          "output_type": "stream",
          "text": [
            "Drive already mounted at /content/gdrive; to attempt to forcibly remount, call drive.mount(\"/content/gdrive\", force_remount=True).\n"
          ],
          "name": "stdout"
        }
      ]
    },
    {
      "metadata": {
        "id": "GK7RRaFQ4TDu",
        "colab_type": "code",
        "outputId": "4b6caf44-1f4a-442e-8f6a-dfecfc8cae24",
        "colab": {
          "base_uri": "https://localhost:8080/",
          "height": 34
        }
      },
      "cell_type": "code",
      "source": [
        "cd gdrive/My Drive/Colab"
      ],
      "execution_count": 0,
      "outputs": [
        {
          "output_type": "stream",
          "text": [
            "/content/gdrive/My Drive/Colab\n"
          ],
          "name": "stdout"
        }
      ]
    },
    {
      "metadata": {
        "id": "aqmd2uqlZhv5",
        "colab_type": "code",
        "outputId": "008ad93a-914b-4f25-bd37-c00fd50fedbe",
        "colab": {
          "base_uri": "https://localhost:8080/",
          "height": 34
        }
      },
      "cell_type": "code",
      "source": [
        "ls"
      ],
      "execution_count": 0,
      "outputs": [
        {
          "output_type": "stream",
          "text": [
            "fer2013.csv  \u001b[0m\u001b[01;34mhello\u001b[0m/  \u001b[01;34mPrivateTest\u001b[0m/  \u001b[01;34mPublicTest\u001b[0m/  \u001b[01;34mTraining\u001b[0m/\n"
          ],
          "name": "stdout"
        }
      ]
    },
    {
      "metadata": {
        "id": "B9kKGAJoQGf-",
        "colab_type": "code",
        "outputId": "5961ca58-7d71-43dd-b249-8ca18c22eea9",
        "colab": {
          "base_uri": "https://localhost:8080/",
          "height": 34
        }
      },
      "cell_type": "code",
      "source": [
        "from sklearn.svm import LinearSVC\n",
        "from sklearn.metrics import confusion_matrix\n",
        "from sklearn import metrics\n",
        "from sklearn.svm import SVC\n",
        "from sklearn import preprocessing\n",
        "from sklearn.decomposition import PCA\n",
        "import seaborn as sns\n",
        "\n",
        "from PIL import Image\n",
        "import seaborn as sns\n",
        "import matplotlib.pyplot as plt\n",
        "import numpy as np\n",
        "import glob\n",
        "import cv2 as cv\n",
        "import time\n",
        "import copy as cp\n",
        "import pandas as pd\n",
        "import pickle \n",
        "\n",
        "import torch\n",
        "from torch.utils import data\n",
        "import torch.nn as nn\n",
        "import torch.nn.functional as F\n",
        "import torchvision\n",
        "import torchvision.transforms as transforms\n",
        "import torch.optim as optim\n",
        "import warnings\n",
        "warnings.filterwarnings(\"ignore\")\n",
        "device = torch.device(\"cuda:0\" if torch.cuda.is_available() else \"cpu\")\n",
        "print(device)\n"
      ],
      "execution_count": 0,
      "outputs": [
        {
          "output_type": "stream",
          "text": [
            "cuda:0\n"
          ],
          "name": "stdout"
        }
      ]
    },
    {
      "metadata": {
        "id": "ZXMGjNrkQW8w",
        "colab_type": "code",
        "colab": {}
      },
      "cell_type": "code",
      "source": [
        "def load1(path_train,path_test1,path_test2):\n",
        "    transform = transforms.Compose([transforms.Resize(227),transforms.ToTensor(),\n",
        "     transforms.Normalize((0.5, 0.5, 0.5), (0.5, 0.5, 0.5))])\n",
        "    batch_size=32\n",
        "    \n",
        "    trainloader = torch.utils.data.DataLoader(\n",
        "          ImageFilelist(root=path_train,lbl='Training', \n",
        "          transform=transform),\n",
        "          batch_size=batch_size, shuffle=False, pin_memory=True)\n",
        "    \n",
        "    testloader1 = torch.utils.data.DataLoader(\n",
        "          ImageFilelist(root=path_test1,lbl='PublicTest',\n",
        "          transform=transform),\n",
        "          batch_size=batch_size, shuffle=False, pin_memory=True)\n",
        "\n",
        "    testloader2 = torch.utils.data.DataLoader(\n",
        "          ImageFilelist(root=path_test2,lbl='PrivateTest',\n",
        "          transform=transform),\n",
        "          batch_size=batch_size, shuffle=False, pin_memory=True)\n",
        "\n",
        "          \n",
        "    return trainloader,testloader1,testloader2\n"
      ],
      "execution_count": 0,
      "outputs": []
    },
    {
      "metadata": {
        "id": "Nuq7dEdrQZp8",
        "colab_type": "code",
        "colab": {}
      },
      "cell_type": "code",
      "source": [
        "def train(trainloader,net):\n",
        "    trn=[]; lbl=[]; c=0; t=time.time()\n",
        "    with torch.no_grad():\n",
        "         for data1 in trainloader:\n",
        "             c+=1\n",
        "             if(c%100==0):\n",
        "                 print('Training: ',c,', Time: ',time.time()-t)\n",
        "                 t=time.time()\n",
        "             images, labels = data1\n",
        "             images, labels = torch.tensor(images), torch.tensor(labels)\n",
        "             images, labels = images.to(device), labels.to(device)\n",
        "             out = net(images)\n",
        "             for outputs in out:\n",
        "                trn.append(cp.deepcopy(np.array(outputs.cpu(),np.double)))\n",
        "             for label in labels:\n",
        "                lbl.append(cp.deepcopy(np.array(label.cpu(),np.int32)))\n",
        "    return np.array(trn),np.array(lbl)\n",
        "         \n",
        "    \n",
        "def test(testloader,net):\n",
        "    tst=[]; lbl=[]; c=0; t=time.time()\n",
        "    with torch.no_grad():\n",
        "         for data1 in testloader:\n",
        "             c+=1\n",
        "             if(c%50==0):\n",
        "                 print('Testing: ',c,', Time: ',time.time()-t)\n",
        "                 t=time.time()\n",
        "             images, labels = data1\n",
        "             images, labels = torch.tensor(images), torch.tensor(labels)\n",
        "             images, labels = images.to(device), labels.to(device)\n",
        "             out = net(images)\n",
        "             for outputs in out:  \n",
        "                tst.append(cp.deepcopy(np.array(outputs.cpu(),np.double)))\n",
        "             for label in labels:\n",
        "               lbl.append(cp.deepcopy(np.array(label.cpu(),np.int32)))\n",
        "    return np.array(tst),np.array(lbl)"
      ],
      "execution_count": 0,
      "outputs": []
    },
    {
      "metadata": {
        "id": "5PCrtWYrQWCy",
        "colab_type": "code",
        "colab": {}
      },
      "cell_type": "code",
      "source": [
        " def default_flist_reader(flist,lbl):\n",
        "    imlist=[]\n",
        "    path='fer2013.csv'\n",
        "    data=pd.read_csv(path)\n",
        "    emotion={0:'Angry',1:'Disgust',2:'Fear',3:'Happy',4:'Sad', 5:'Surprise', 6:'Neutral'}\n",
        "    for i in range(len(data.pixels)):\n",
        "        if(lbl==data.Usage[i]):\n",
        "          im=np.array(data.pixels[i].split(' '),np.uint8)\n",
        "          im.shape=(48,48)\n",
        "          im=Image.fromarray(im).convert('RGB')\n",
        "          nm=data.emotion[i]\n",
        "          imlist.append(cp.deepcopy((im,nm)))    \n",
        "    print(len(imlist))\n",
        "    return imlist\n",
        "   \n",
        "class ImageFilelist(data.Dataset):\n",
        "     def __init__(self, root, transform=None,lbl='Training', target_transform=None,\n",
        "         flist_reader=default_flist_reader):\n",
        "         self.lbl=lbl\n",
        "         self.imlist = flist_reader(root,lbl)\n",
        "         self.transform = transform\n",
        "         self.target_transform = target_transform\n",
        "         \n",
        "   \n",
        "     def __getitem__(self, index):\n",
        "         img, target = self.imlist[index]\n",
        "         #img = self.loader(impath)\n",
        "         if self.transform is not None:\n",
        "            img = self.transform(img)\n",
        "         if self.target_transform is not None:\n",
        "            target = self.target_transform(target)\n",
        "         return img, target\n",
        "   \n",
        "     def __len__(self):\n",
        "         return len(self.imlist)\n"
      ],
      "execution_count": 0,
      "outputs": []
    },
    {
      "metadata": {
        "id": "IygxibILmR1B",
        "colab_type": "text"
      },
      "cell_type": "markdown",
      "source": [
        "**Load Data**"
      ]
    },
    {
      "metadata": {
        "id": "XESmL8Z9QeAy",
        "colab_type": "code",
        "outputId": "eaa389ad-7455-40a3-eb32-5a32c942307c",
        "colab": {
          "base_uri": "https://localhost:8080/",
          "height": 408
        }
      },
      "cell_type": "code",
      "source": [
        "p_trn='/Training/'\n",
        "p_tst1='/PublicTest/'\n",
        "p_tst2='/PrivateTest/'\n",
        "trainloader,testloader1,testloader2=load1(p_trn,p_tst1,p_tst2)"
      ],
      "execution_count": 0,
      "outputs": [
        {
          "output_type": "error",
          "ename": "FileNotFoundError",
          "evalue": "ignored",
          "traceback": [
            "\u001b[0;31m---------------------------------------------------------------------------\u001b[0m",
            "\u001b[0;31mFileNotFoundError\u001b[0m                         Traceback (most recent call last)",
            "\u001b[0;32m<ipython-input-5-572a7eedb393>\u001b[0m in \u001b[0;36m<module>\u001b[0;34m()\u001b[0m\n\u001b[1;32m      2\u001b[0m \u001b[0mp_tst1\u001b[0m\u001b[0;34m=\u001b[0m\u001b[0;34m'/PublicTest/'\u001b[0m\u001b[0;34m\u001b[0m\u001b[0;34m\u001b[0m\u001b[0m\n\u001b[1;32m      3\u001b[0m \u001b[0mp_tst2\u001b[0m\u001b[0;34m=\u001b[0m\u001b[0;34m'/PrivateTest/'\u001b[0m\u001b[0;34m\u001b[0m\u001b[0;34m\u001b[0m\u001b[0m\n\u001b[0;32m----> 4\u001b[0;31m \u001b[0mtrainloader\u001b[0m\u001b[0;34m,\u001b[0m\u001b[0mtestloader1\u001b[0m\u001b[0;34m,\u001b[0m\u001b[0mtestloader2\u001b[0m\u001b[0;34m=\u001b[0m\u001b[0mload1\u001b[0m\u001b[0;34m(\u001b[0m\u001b[0mp_trn\u001b[0m\u001b[0;34m,\u001b[0m\u001b[0mp_tst1\u001b[0m\u001b[0;34m,\u001b[0m\u001b[0mp_tst2\u001b[0m\u001b[0;34m)\u001b[0m\u001b[0;34m\u001b[0m\u001b[0;34m\u001b[0m\u001b[0m\n\u001b[0m",
            "\u001b[0;32m<ipython-input-2-cb7d39ffb786>\u001b[0m in \u001b[0;36mload1\u001b[0;34m(path_train, path_test1, path_test2)\u001b[0m\n\u001b[1;32m      6\u001b[0m     trainloader = torch.utils.data.DataLoader(\n\u001b[1;32m      7\u001b[0m           ImageFilelist(root=path_train,lbl='Training', \n\u001b[0;32m----> 8\u001b[0;31m           transform=transform),\n\u001b[0m\u001b[1;32m      9\u001b[0m           batch_size=batch_size, shuffle=False, pin_memory=True)\n\u001b[1;32m     10\u001b[0m \u001b[0;34m\u001b[0m\u001b[0m\n",
            "\u001b[0;32m<ipython-input-4-28e2356a5251>\u001b[0m in \u001b[0;36m__init__\u001b[0;34m(self, root, transform, lbl, target_transform, flist_reader)\u001b[0m\n\u001b[1;32m     18\u001b[0m         flist_reader=default_flist_reader):\n\u001b[1;32m     19\u001b[0m         \u001b[0mself\u001b[0m\u001b[0;34m.\u001b[0m\u001b[0mlbl\u001b[0m\u001b[0;34m=\u001b[0m\u001b[0mlbl\u001b[0m\u001b[0;34m\u001b[0m\u001b[0;34m\u001b[0m\u001b[0m\n\u001b[0;32m---> 20\u001b[0;31m         \u001b[0mself\u001b[0m\u001b[0;34m.\u001b[0m\u001b[0mimlist\u001b[0m \u001b[0;34m=\u001b[0m \u001b[0mflist_reader\u001b[0m\u001b[0;34m(\u001b[0m\u001b[0mroot\u001b[0m\u001b[0;34m,\u001b[0m\u001b[0mlbl\u001b[0m\u001b[0;34m)\u001b[0m\u001b[0;34m\u001b[0m\u001b[0;34m\u001b[0m\u001b[0m\n\u001b[0m\u001b[1;32m     21\u001b[0m         \u001b[0mself\u001b[0m\u001b[0;34m.\u001b[0m\u001b[0mtransform\u001b[0m \u001b[0;34m=\u001b[0m \u001b[0mtransform\u001b[0m\u001b[0;34m\u001b[0m\u001b[0;34m\u001b[0m\u001b[0m\n\u001b[1;32m     22\u001b[0m         \u001b[0mself\u001b[0m\u001b[0;34m.\u001b[0m\u001b[0mtarget_transform\u001b[0m \u001b[0;34m=\u001b[0m \u001b[0mtarget_transform\u001b[0m\u001b[0;34m\u001b[0m\u001b[0;34m\u001b[0m\u001b[0m\n",
            "\u001b[0;32m<ipython-input-4-28e2356a5251>\u001b[0m in \u001b[0;36mdefault_flist_reader\u001b[0;34m(flist, lbl)\u001b[0m\n\u001b[1;32m      2\u001b[0m    \u001b[0mimlist\u001b[0m\u001b[0;34m=\u001b[0m\u001b[0;34m[\u001b[0m\u001b[0;34m]\u001b[0m\u001b[0;34m\u001b[0m\u001b[0;34m\u001b[0m\u001b[0m\n\u001b[1;32m      3\u001b[0m    \u001b[0mpath\u001b[0m\u001b[0;34m=\u001b[0m\u001b[0;34m'fer2013.csv'\u001b[0m\u001b[0;34m\u001b[0m\u001b[0;34m\u001b[0m\u001b[0m\n\u001b[0;32m----> 4\u001b[0;31m    \u001b[0mdata\u001b[0m\u001b[0;34m=\u001b[0m\u001b[0mpd\u001b[0m\u001b[0;34m.\u001b[0m\u001b[0mread_csv\u001b[0m\u001b[0;34m(\u001b[0m\u001b[0mpath\u001b[0m\u001b[0;34m)\u001b[0m\u001b[0;34m\u001b[0m\u001b[0;34m\u001b[0m\u001b[0m\n\u001b[0m\u001b[1;32m      5\u001b[0m    \u001b[0memotion\u001b[0m\u001b[0;34m=\u001b[0m\u001b[0;34m{\u001b[0m\u001b[0;36m0\u001b[0m\u001b[0;34m:\u001b[0m\u001b[0;34m'Angry'\u001b[0m\u001b[0;34m,\u001b[0m\u001b[0;36m1\u001b[0m\u001b[0;34m:\u001b[0m\u001b[0;34m'Disgust'\u001b[0m\u001b[0;34m,\u001b[0m\u001b[0;36m2\u001b[0m\u001b[0;34m:\u001b[0m\u001b[0;34m'Fear'\u001b[0m\u001b[0;34m,\u001b[0m\u001b[0;36m3\u001b[0m\u001b[0;34m:\u001b[0m\u001b[0;34m'Happy'\u001b[0m\u001b[0;34m,\u001b[0m\u001b[0;36m4\u001b[0m\u001b[0;34m:\u001b[0m\u001b[0;34m'Sad'\u001b[0m\u001b[0;34m,\u001b[0m \u001b[0;36m5\u001b[0m\u001b[0;34m:\u001b[0m\u001b[0;34m'Surprise'\u001b[0m\u001b[0;34m,\u001b[0m \u001b[0;36m6\u001b[0m\u001b[0;34m:\u001b[0m\u001b[0;34m'Neutral'\u001b[0m\u001b[0;34m}\u001b[0m\u001b[0;34m\u001b[0m\u001b[0;34m\u001b[0m\u001b[0m\n\u001b[1;32m      6\u001b[0m    \u001b[0;32mfor\u001b[0m \u001b[0mi\u001b[0m \u001b[0;32min\u001b[0m \u001b[0mrange\u001b[0m\u001b[0;34m(\u001b[0m\u001b[0mlen\u001b[0m\u001b[0;34m(\u001b[0m\u001b[0mdata\u001b[0m\u001b[0;34m.\u001b[0m\u001b[0mpixels\u001b[0m\u001b[0;34m)\u001b[0m\u001b[0;34m)\u001b[0m\u001b[0;34m:\u001b[0m\u001b[0;34m\u001b[0m\u001b[0;34m\u001b[0m\u001b[0m\n",
            "\u001b[0;32m/usr/local/lib/python3.6/dist-packages/pandas/io/parsers.py\u001b[0m in \u001b[0;36mparser_f\u001b[0;34m(filepath_or_buffer, sep, delimiter, header, names, index_col, usecols, squeeze, prefix, mangle_dupe_cols, dtype, engine, converters, true_values, false_values, skipinitialspace, skiprows, skipfooter, nrows, na_values, keep_default_na, na_filter, verbose, skip_blank_lines, parse_dates, infer_datetime_format, keep_date_col, date_parser, dayfirst, iterator, chunksize, compression, thousands, decimal, lineterminator, quotechar, quoting, doublequote, escapechar, comment, encoding, dialect, tupleize_cols, error_bad_lines, warn_bad_lines, delim_whitespace, low_memory, memory_map, float_precision)\u001b[0m\n\u001b[1;32m    700\u001b[0m                     skip_blank_lines=skip_blank_lines)\n\u001b[1;32m    701\u001b[0m \u001b[0;34m\u001b[0m\u001b[0m\n\u001b[0;32m--> 702\u001b[0;31m         \u001b[0;32mreturn\u001b[0m \u001b[0m_read\u001b[0m\u001b[0;34m(\u001b[0m\u001b[0mfilepath_or_buffer\u001b[0m\u001b[0;34m,\u001b[0m \u001b[0mkwds\u001b[0m\u001b[0;34m)\u001b[0m\u001b[0;34m\u001b[0m\u001b[0;34m\u001b[0m\u001b[0m\n\u001b[0m\u001b[1;32m    703\u001b[0m \u001b[0;34m\u001b[0m\u001b[0m\n\u001b[1;32m    704\u001b[0m     \u001b[0mparser_f\u001b[0m\u001b[0;34m.\u001b[0m\u001b[0m__name__\u001b[0m \u001b[0;34m=\u001b[0m \u001b[0mname\u001b[0m\u001b[0;34m\u001b[0m\u001b[0;34m\u001b[0m\u001b[0m\n",
            "\u001b[0;32m/usr/local/lib/python3.6/dist-packages/pandas/io/parsers.py\u001b[0m in \u001b[0;36m_read\u001b[0;34m(filepath_or_buffer, kwds)\u001b[0m\n\u001b[1;32m    427\u001b[0m \u001b[0;34m\u001b[0m\u001b[0m\n\u001b[1;32m    428\u001b[0m     \u001b[0;31m# Create the parser.\u001b[0m\u001b[0;34m\u001b[0m\u001b[0;34m\u001b[0m\u001b[0;34m\u001b[0m\u001b[0m\n\u001b[0;32m--> 429\u001b[0;31m     \u001b[0mparser\u001b[0m \u001b[0;34m=\u001b[0m \u001b[0mTextFileReader\u001b[0m\u001b[0;34m(\u001b[0m\u001b[0mfilepath_or_buffer\u001b[0m\u001b[0;34m,\u001b[0m \u001b[0;34m**\u001b[0m\u001b[0mkwds\u001b[0m\u001b[0;34m)\u001b[0m\u001b[0;34m\u001b[0m\u001b[0;34m\u001b[0m\u001b[0m\n\u001b[0m\u001b[1;32m    430\u001b[0m \u001b[0;34m\u001b[0m\u001b[0m\n\u001b[1;32m    431\u001b[0m     \u001b[0;32mif\u001b[0m \u001b[0mchunksize\u001b[0m \u001b[0;32mor\u001b[0m \u001b[0miterator\u001b[0m\u001b[0;34m:\u001b[0m\u001b[0;34m\u001b[0m\u001b[0;34m\u001b[0m\u001b[0m\n",
            "\u001b[0;32m/usr/local/lib/python3.6/dist-packages/pandas/io/parsers.py\u001b[0m in \u001b[0;36m__init__\u001b[0;34m(self, f, engine, **kwds)\u001b[0m\n\u001b[1;32m    893\u001b[0m             \u001b[0mself\u001b[0m\u001b[0;34m.\u001b[0m\u001b[0moptions\u001b[0m\u001b[0;34m[\u001b[0m\u001b[0;34m'has_index_names'\u001b[0m\u001b[0;34m]\u001b[0m \u001b[0;34m=\u001b[0m \u001b[0mkwds\u001b[0m\u001b[0;34m[\u001b[0m\u001b[0;34m'has_index_names'\u001b[0m\u001b[0;34m]\u001b[0m\u001b[0;34m\u001b[0m\u001b[0;34m\u001b[0m\u001b[0m\n\u001b[1;32m    894\u001b[0m \u001b[0;34m\u001b[0m\u001b[0m\n\u001b[0;32m--> 895\u001b[0;31m         \u001b[0mself\u001b[0m\u001b[0;34m.\u001b[0m\u001b[0m_make_engine\u001b[0m\u001b[0;34m(\u001b[0m\u001b[0mself\u001b[0m\u001b[0;34m.\u001b[0m\u001b[0mengine\u001b[0m\u001b[0;34m)\u001b[0m\u001b[0;34m\u001b[0m\u001b[0;34m\u001b[0m\u001b[0m\n\u001b[0m\u001b[1;32m    896\u001b[0m \u001b[0;34m\u001b[0m\u001b[0m\n\u001b[1;32m    897\u001b[0m     \u001b[0;32mdef\u001b[0m \u001b[0mclose\u001b[0m\u001b[0;34m(\u001b[0m\u001b[0mself\u001b[0m\u001b[0;34m)\u001b[0m\u001b[0;34m:\u001b[0m\u001b[0;34m\u001b[0m\u001b[0;34m\u001b[0m\u001b[0m\n",
            "\u001b[0;32m/usr/local/lib/python3.6/dist-packages/pandas/io/parsers.py\u001b[0m in \u001b[0;36m_make_engine\u001b[0;34m(self, engine)\u001b[0m\n\u001b[1;32m   1120\u001b[0m     \u001b[0;32mdef\u001b[0m \u001b[0m_make_engine\u001b[0m\u001b[0;34m(\u001b[0m\u001b[0mself\u001b[0m\u001b[0;34m,\u001b[0m \u001b[0mengine\u001b[0m\u001b[0;34m=\u001b[0m\u001b[0;34m'c'\u001b[0m\u001b[0;34m)\u001b[0m\u001b[0;34m:\u001b[0m\u001b[0;34m\u001b[0m\u001b[0;34m\u001b[0m\u001b[0m\n\u001b[1;32m   1121\u001b[0m         \u001b[0;32mif\u001b[0m \u001b[0mengine\u001b[0m \u001b[0;34m==\u001b[0m \u001b[0;34m'c'\u001b[0m\u001b[0;34m:\u001b[0m\u001b[0;34m\u001b[0m\u001b[0;34m\u001b[0m\u001b[0m\n\u001b[0;32m-> 1122\u001b[0;31m             \u001b[0mself\u001b[0m\u001b[0;34m.\u001b[0m\u001b[0m_engine\u001b[0m \u001b[0;34m=\u001b[0m \u001b[0mCParserWrapper\u001b[0m\u001b[0;34m(\u001b[0m\u001b[0mself\u001b[0m\u001b[0;34m.\u001b[0m\u001b[0mf\u001b[0m\u001b[0;34m,\u001b[0m \u001b[0;34m**\u001b[0m\u001b[0mself\u001b[0m\u001b[0;34m.\u001b[0m\u001b[0moptions\u001b[0m\u001b[0;34m)\u001b[0m\u001b[0;34m\u001b[0m\u001b[0;34m\u001b[0m\u001b[0m\n\u001b[0m\u001b[1;32m   1123\u001b[0m         \u001b[0;32melse\u001b[0m\u001b[0;34m:\u001b[0m\u001b[0;34m\u001b[0m\u001b[0;34m\u001b[0m\u001b[0m\n\u001b[1;32m   1124\u001b[0m             \u001b[0;32mif\u001b[0m \u001b[0mengine\u001b[0m \u001b[0;34m==\u001b[0m \u001b[0;34m'python'\u001b[0m\u001b[0;34m:\u001b[0m\u001b[0;34m\u001b[0m\u001b[0;34m\u001b[0m\u001b[0m\n",
            "\u001b[0;32m/usr/local/lib/python3.6/dist-packages/pandas/io/parsers.py\u001b[0m in \u001b[0;36m__init__\u001b[0;34m(self, src, **kwds)\u001b[0m\n\u001b[1;32m   1851\u001b[0m         \u001b[0mkwds\u001b[0m\u001b[0;34m[\u001b[0m\u001b[0;34m'usecols'\u001b[0m\u001b[0;34m]\u001b[0m \u001b[0;34m=\u001b[0m \u001b[0mself\u001b[0m\u001b[0;34m.\u001b[0m\u001b[0musecols\u001b[0m\u001b[0;34m\u001b[0m\u001b[0;34m\u001b[0m\u001b[0m\n\u001b[1;32m   1852\u001b[0m \u001b[0;34m\u001b[0m\u001b[0m\n\u001b[0;32m-> 1853\u001b[0;31m         \u001b[0mself\u001b[0m\u001b[0;34m.\u001b[0m\u001b[0m_reader\u001b[0m \u001b[0;34m=\u001b[0m \u001b[0mparsers\u001b[0m\u001b[0;34m.\u001b[0m\u001b[0mTextReader\u001b[0m\u001b[0;34m(\u001b[0m\u001b[0msrc\u001b[0m\u001b[0;34m,\u001b[0m \u001b[0;34m**\u001b[0m\u001b[0mkwds\u001b[0m\u001b[0;34m)\u001b[0m\u001b[0;34m\u001b[0m\u001b[0;34m\u001b[0m\u001b[0m\n\u001b[0m\u001b[1;32m   1854\u001b[0m         \u001b[0mself\u001b[0m\u001b[0;34m.\u001b[0m\u001b[0munnamed_cols\u001b[0m \u001b[0;34m=\u001b[0m \u001b[0mself\u001b[0m\u001b[0;34m.\u001b[0m\u001b[0m_reader\u001b[0m\u001b[0;34m.\u001b[0m\u001b[0munnamed_cols\u001b[0m\u001b[0;34m\u001b[0m\u001b[0;34m\u001b[0m\u001b[0m\n\u001b[1;32m   1855\u001b[0m \u001b[0;34m\u001b[0m\u001b[0m\n",
            "\u001b[0;32mpandas/_libs/parsers.pyx\u001b[0m in \u001b[0;36mpandas._libs.parsers.TextReader.__cinit__\u001b[0;34m()\u001b[0m\n",
            "\u001b[0;32mpandas/_libs/parsers.pyx\u001b[0m in \u001b[0;36mpandas._libs.parsers.TextReader._setup_parser_source\u001b[0;34m()\u001b[0m\n",
            "\u001b[0;31mFileNotFoundError\u001b[0m: [Errno 2] File b'fer2013.csv' does not exist: b'fer2013.csv'"
          ]
        }
      ]
    },
    {
      "metadata": {
        "id": "doTcziR6bJrV",
        "colab_type": "code",
        "outputId": "0321dce2-a766-4f06-be83-54a14b2a6a4e",
        "colab": {
          "base_uri": "https://localhost:8080/",
          "height": 510
        }
      },
      "cell_type": "code",
      "source": [
        "alexnet = torchvision.models.alexnet(True)\n",
        "#vgg = torchvision.models.vgg16(True)\n",
        "#net=torchvision.models.densenet161(True)\n",
        "#alexnet.to(device)\n",
        "#vgg.to(device)\n",
        "print(alexnet)"
      ],
      "execution_count": 0,
      "outputs": [
        {
          "output_type": "stream",
          "text": [
            "Downloading: \"https://download.pytorch.org/models/alexnet-owt-4df8aa71.pth\" to /root/.torch/models/alexnet-owt-4df8aa71.pth\n",
            "244418560it [00:02, 107756163.98it/s]\n"
          ],
          "name": "stderr"
        },
        {
          "output_type": "stream",
          "text": [
            "AlexNet(\n",
            "  (features): Sequential(\n",
            "    (0): Conv2d(3, 64, kernel_size=(11, 11), stride=(4, 4), padding=(2, 2))\n",
            "    (1): ReLU(inplace)\n",
            "    (2): MaxPool2d(kernel_size=3, stride=2, padding=0, dilation=1, ceil_mode=False)\n",
            "    (3): Conv2d(64, 192, kernel_size=(5, 5), stride=(1, 1), padding=(2, 2))\n",
            "    (4): ReLU(inplace)\n",
            "    (5): MaxPool2d(kernel_size=3, stride=2, padding=0, dilation=1, ceil_mode=False)\n",
            "    (6): Conv2d(192, 384, kernel_size=(3, 3), stride=(1, 1), padding=(1, 1))\n",
            "    (7): ReLU(inplace)\n",
            "    (8): Conv2d(384, 256, kernel_size=(3, 3), stride=(1, 1), padding=(1, 1))\n",
            "    (9): ReLU(inplace)\n",
            "    (10): Conv2d(256, 256, kernel_size=(3, 3), stride=(1, 1), padding=(1, 1))\n",
            "    (11): ReLU(inplace)\n",
            "    (12): MaxPool2d(kernel_size=3, stride=2, padding=0, dilation=1, ceil_mode=False)\n",
            "  )\n",
            "  (avgpool): AdaptiveAvgPool2d(output_size=(6, 6))\n",
            "  (classifier): Sequential(\n",
            "    (0): Dropout(p=0.5)\n",
            "    (1): Linear(in_features=9216, out_features=4096, bias=True)\n",
            "    (2): ReLU(inplace)\n",
            "    (3): Dropout(p=0.5)\n",
            "    (4): Linear(in_features=4096, out_features=4096, bias=True)\n",
            "    (5): ReLU(inplace)\n",
            "    (6): Linear(in_features=4096, out_features=1000, bias=True)\n",
            "  )\n",
            ")\n"
          ],
          "name": "stdout"
        }
      ]
    },
    {
      "metadata": {
        "id": "FavSJ7EfbauR",
        "colab_type": "code",
        "outputId": "eb31c7c2-6278-4e80-adb2-56a2aa494250",
        "colab": {
          "base_uri": "https://localhost:8080/",
          "height": 391
        }
      },
      "cell_type": "code",
      "source": [
        "net1.classifier=nn.Sequential(*list(alexnet.classifier.children())[:-5])\n",
        "net2.classifier=nn.Sequential(*list(vgg.classifier.children())[:-3])"
      ],
      "execution_count": 0,
      "outputs": [
        {
          "output_type": "stream",
          "text": [
            "AlexNet(\n",
            "  (features): Sequential(\n",
            "    (0): Conv2d(3, 64, kernel_size=(11, 11), stride=(4, 4), padding=(2, 2))\n",
            "    (1): ReLU(inplace)\n",
            "    (2): MaxPool2d(kernel_size=3, stride=2, padding=0, dilation=1, ceil_mode=False)\n",
            "    (3): Conv2d(64, 192, kernel_size=(5, 5), stride=(1, 1), padding=(2, 2))\n",
            "    (4): ReLU(inplace)\n",
            "    (5): MaxPool2d(kernel_size=3, stride=2, padding=0, dilation=1, ceil_mode=False)\n",
            "    (6): Conv2d(192, 384, kernel_size=(3, 3), stride=(1, 1), padding=(1, 1))\n",
            "    (7): ReLU(inplace)\n",
            "    (8): Conv2d(384, 256, kernel_size=(3, 3), stride=(1, 1), padding=(1, 1))\n",
            "    (9): ReLU(inplace)\n",
            "    (10): Conv2d(256, 256, kernel_size=(3, 3), stride=(1, 1), padding=(1, 1))\n",
            "    (11): ReLU(inplace)\n",
            "    (12): MaxPool2d(kernel_size=3, stride=2, padding=0, dilation=1, ceil_mode=False)\n",
            "  )\n",
            "  (avgpool): AdaptiveAvgPool2d(output_size=(6, 6))\n",
            "  (classifier): Sequential(\n",
            "    (0): Dropout(p=0.5)\n",
            "    (1): Linear(in_features=9216, out_features=4096, bias=True)\n",
            "  )\n",
            ")\n"
          ],
          "name": "stdout"
        }
      ]
    },
    {
      "metadata": {
        "id": "uOFqvpHmlAE1",
        "colab_type": "text"
      },
      "cell_type": "markdown",
      "source": [
        ""
      ]
    },
    {
      "metadata": {
        "id": "1r0E3F94sFf_",
        "colab_type": "text"
      },
      "cell_type": "markdown",
      "source": [
        "**Extract** **Features**"
      ]
    },
    {
      "metadata": {
        "id": "x9AHg9DIQsY-",
        "colab_type": "code",
        "outputId": "455c5953-dcb0-4b37-d7af-6e8b1e741dc8",
        "colab": {
          "base_uri": "https://localhost:8080/",
          "height": 323
        }
      },
      "cell_type": "code",
      "source": [
        "Xtr1,Ytr1=train(trainloader,net1)\n",
        "print(Xtr1.shape,Ytr1.shape)\n",
        "Xtr2,Ytr2=train(trainloader,net2)\n",
        "print(Xtr2.shape,Ytr2.shape)\n"
      ],
      "execution_count": 0,
      "outputs": [
        {
          "output_type": "stream",
          "text": [
            "Training:  100 , Time:  11.387022256851196\n",
            "Training:  200 , Time:  11.457809209823608\n",
            "Training:  300 , Time:  11.744714975357056\n",
            "Training:  400 , Time:  11.202537536621094\n",
            "Training:  500 , Time:  11.148491621017456\n",
            "Training:  600 , Time:  11.10200309753418\n",
            "Training:  700 , Time:  11.719087600708008\n",
            "Training:  800 , Time:  11.74514889717102\n",
            "(28709, 4096) (28709,)\n",
            "Training:  100 , Time:  29.98655652999878\n",
            "Training:  200 , Time:  31.138575792312622\n",
            "Training:  300 , Time:  30.935880184173584\n",
            "Training:  400 , Time:  30.838395833969116\n",
            "Training:  500 , Time:  30.800657510757446\n",
            "Training:  600 , Time:  31.01133894920349\n",
            "Training:  700 , Time:  31.134522199630737\n",
            "Training:  800 , Time:  31.333293914794922\n",
            "(28709, 4096) (28709,)\n"
          ],
          "name": "stdout"
        }
      ]
    },
    {
      "metadata": {
        "id": "EEqDNoiqegXl",
        "colab_type": "code",
        "outputId": "a96d428e-31ff-4a31-f352-03dc6864a0f9",
        "colab": {
          "base_uri": "https://localhost:8080/",
          "height": 119
        }
      },
      "cell_type": "code",
      "source": [
        "Xte1_pub,Yte1_pub=test(testloader1,net1)\n",
        "print(Xte1_pub.shape,Yte1_pub.shape)\n",
        "\n",
        "Xte2_pub,Yte2_pub=test(testloader1,net2)\n",
        "print(Xte2_pub.shape,Yte2_pub.shape)"
      ],
      "execution_count": 0,
      "outputs": [
        {
          "output_type": "stream",
          "text": [
            "Testing:  50 , Time:  5.876577377319336\n",
            "Testing:  100 , Time:  5.439253091812134\n",
            "(3589, 4096) (3589,)\n",
            "Testing:  50 , Time:  15.146250009536743\n",
            "Testing:  100 , Time:  15.654850959777832\n",
            "(3589, 4096) (3589,)\n"
          ],
          "name": "stdout"
        }
      ]
    },
    {
      "metadata": {
        "id": "kf0WwF58nhbl",
        "colab_type": "code",
        "outputId": "cdd72586-2f01-4c5e-bab9-3bc64f34fa9f",
        "colab": {
          "base_uri": "https://localhost:8080/",
          "height": 119
        }
      },
      "cell_type": "code",
      "source": [
        "Xte1_pri,Yte1_pri=test(testloader2,net1)\n",
        "print(Xte1_pri.shape,Yte1_pri.shape)\n",
        "\n",
        "Xte2_pri,Yte2_pri=test(testloader2,net2)\n",
        "print(Xte2_pri.shape,Yte2_pri.shape)"
      ],
      "execution_count": 0,
      "outputs": [
        {
          "output_type": "stream",
          "text": [
            "Testing:  50 , Time:  5.285412788391113\n",
            "Testing:  100 , Time:  5.959738254547119\n",
            "(3589, 4096) (3589,)\n",
            "Testing:  50 , Time:  15.044383764266968\n",
            "Testing:  100 , Time:  15.33812928199768\n",
            "(3589, 4096) (3589,)\n"
          ],
          "name": "stdout"
        }
      ]
    },
    {
      "metadata": {
        "id": "gCdZQ243c7Up",
        "colab_type": "code",
        "outputId": "cc2cfaf6-69a3-4086-a9a0-3ad9e78a1d42",
        "colab": {
          "base_uri": "https://localhost:8080/",
          "height": 68
        }
      },
      "cell_type": "code",
      "source": [
        "Xtr=[];\n",
        "for i in range(Ytr1.shape[0]):\n",
        "  tmp=np.concatenate((Xtr1[i],Xtr2[i]))\n",
        "  Xtr.append(cp.deepcopy(tmp))\n",
        "Xtr=np.array(Xtr)\n",
        "print(Xtr.shape)\n",
        "\n",
        "Xte_pub=[];\n",
        "for i in range(Yte1_pub.shape[0]):\n",
        "  tmp=np.concatenate((Xte1_pub[i],Xte2_pub[i]))\n",
        "  Xte_pub.append(cp.deepcopy(tmp))\n",
        "Xte_pub=np.array(Xte_pub)\n",
        "print(Xte_pub.shape)\n",
        "  \n",
        "Xte_pri=[];\n",
        "for i in range(Yte1_pri.shape[0]):\n",
        "  tmp=np.concatenate((Xte1_pri[i],Xte2_pri[i]))\n",
        "  Xte_pri.append(cp.deepcopy(tmp))\n",
        "Xte_pri=np.array(Xte_pri)\n",
        "print(Xte_pri.shape)"
      ],
      "execution_count": 0,
      "outputs": [
        {
          "output_type": "stream",
          "text": [
            "(28709, 8192)\n",
            "(3589, 8192)\n",
            "(3589, 8192)\n"
          ],
          "name": "stdout"
        }
      ]
    },
    {
      "metadata": {
        "id": "bwWT-0GXbxhk",
        "colab_type": "code",
        "outputId": "1ad943a3-0c7d-4a67-ef9c-96e69aabb497",
        "colab": {
          "base_uri": "https://localhost:8080/",
          "height": 34
        }
      },
      "cell_type": "code",
      "source": [
        "np.unique(Ytr1)"
      ],
      "execution_count": 0,
      "outputs": [
        {
          "output_type": "execute_result",
          "data": {
            "text/plain": [
              "array([0, 1, 2, 3, 4, 5, 6], dtype=int32)"
            ]
          },
          "metadata": {
            "tags": []
          },
          "execution_count": 54
        }
      ]
    },
    {
      "metadata": {
        "id": "uxWkbEEIsrp6",
        "colab_type": "text"
      },
      "cell_type": "markdown",
      "source": [
        "**Preprocessing**"
      ]
    },
    {
      "metadata": {
        "id": "Sw2No2wMo1mu",
        "colab_type": "code",
        "colab": {}
      },
      "cell_type": "code",
      "source": [
        "Xtr1=preprocessing.scale(Xtr)\n",
        "Xte1_pub=preprocessing.scale(Xte_pub)\n",
        "Xte1_pri=preprocessing.scale(Xte_pri)"
      ],
      "execution_count": 0,
      "outputs": []
    },
    {
      "metadata": {
        "id": "2QYo9JketEfu",
        "colab_type": "code",
        "outputId": "4f5c7708-4c93-41a1-ca3b-57ee7fe93a0b",
        "colab": {
          "base_uri": "https://localhost:8080/",
          "height": 34
        }
      },
      "cell_type": "code",
      "source": [
        "pca=PCA(n_components=1024)\n",
        "pca.fit(Xtr)\n",
        "print(pca.explained_variance_ratio_.sum())"
      ],
      "execution_count": 0,
      "outputs": [
        {
          "output_type": "stream",
          "text": [
            "0.9303377095653136\n"
          ],
          "name": "stdout"
        }
      ]
    },
    {
      "metadata": {
        "id": "NaDYuqAntBa0",
        "colab_type": "code",
        "outputId": "57ec4fd3-d063-4e72-8243-cdef1af6eb41",
        "colab": {
          "base_uri": "https://localhost:8080/",
          "height": 34
        }
      },
      "cell_type": "code",
      "source": [
        "Xtr1=pca.transform(Xtr)\n",
        "Xte1_pub=pca.transform(Xte_pub)\n",
        "Xte1_pri=pca.transform(Xte_pri)\n",
        "print(Xtr1.shape,Xte1_pub.shape,Xte1_pri.shape)"
      ],
      "execution_count": 0,
      "outputs": [
        {
          "output_type": "stream",
          "text": [
            "(28709, 1024) (3589, 1024) (3589, 1024)\n"
          ],
          "name": "stdout"
        }
      ]
    },
    {
      "metadata": {
        "id": "XLOGdzH9o2jk",
        "colab_type": "text"
      },
      "cell_type": "markdown",
      "source": [
        "**Classification**\n"
      ]
    },
    {
      "metadata": {
        "id": "ZEpVmO84okgT",
        "colab_type": "code",
        "colab": {}
      },
      "cell_type": "code",
      "source": [
        "#clf=LinearSVC()\n",
        "clf=SVC(kernel='rbf',probability=True)\n",
        "clf.fit(Xtr1,Ytr1)"
      ],
      "execution_count": 0,
      "outputs": []
    },
    {
      "metadata": {
        "id": "1NSHPYjgjL-m",
        "colab_type": "text"
      },
      "cell_type": "markdown",
      "source": [
        "**------------------------------------------------------------------ Public Data ----------------------------------------------------------------------------**"
      ]
    },
    {
      "metadata": {
        "id": "qUWwxHbSo0cT",
        "colab_type": "code",
        "colab": {}
      },
      "cell_type": "code",
      "source": [
        "p_lbl=clf.predict(Xte1_pub)\n",
        "cmat=confusion_matrix(Yte1_pub,p_lbl)\n",
        "sns.heatmap(cmat,annot=True,fmt='g')\n",
        "print(clf.score(Xte1_pub,Yte1_pub))"
      ],
      "execution_count": 0,
      "outputs": []
    },
    {
      "metadata": {
        "id": "xhPt0o4LjAuo",
        "colab_type": "text"
      },
      "cell_type": "markdown",
      "source": [
        "ROC Plot"
      ]
    },
    {
      "metadata": {
        "id": "W2_DxV3JifEZ",
        "colab_type": "code",
        "colab": {}
      },
      "cell_type": "code",
      "source": [
        "prob=clf.predict_proba(Xte1_pub)\n",
        "scores=[]\n",
        "for i in range(7):\n",
        "    fpr, tpr, thresholds = metrics.roc_curve(Yte1_pub, prob[:,i], pos_label=i)\n",
        "    plt.plot(fpr,tpr,label='C'+str(i))\n",
        "    plt.legend()\n",
        "plt.xlabel('FPR')\n",
        "plt.ylabel('TPR')  \n",
        "plt.title(' Receiver Operating Characteristic Curve of Public Data')"
      ],
      "execution_count": 0,
      "outputs": []
    },
    {
      "metadata": {
        "id": "iKYrEK0VjRi5",
        "colab_type": "text"
      },
      "cell_type": "markdown",
      "source": [
        "**------------------------------------------------------------------ Private Data ----------------------------------------------------------------------------**"
      ]
    },
    {
      "metadata": {
        "id": "6HLVdzDWo0gD",
        "colab_type": "code",
        "colab": {}
      },
      "cell_type": "code",
      "source": [
        "p_lbl=clf.predict(Xte1_pri)\n",
        "cmat=confusion_matrix(Yte1_pri,p_lbl)\n",
        "sns.heatmap(cmat,annot=True,fmt='g')\n",
        "print(clf.score(Xte1_pri,Yte1_pri))"
      ],
      "execution_count": 0,
      "outputs": []
    },
    {
      "metadata": {
        "id": "iMWalmgrjGeb",
        "colab_type": "text"
      },
      "cell_type": "markdown",
      "source": [
        "ROC Plot"
      ]
    },
    {
      "metadata": {
        "id": "HIH_RHHIiu7T",
        "colab_type": "code",
        "colab": {}
      },
      "cell_type": "code",
      "source": [
        "prob=clf.predict_proba(Xte1_pri)\n",
        "scores=[]\n",
        "for i in range(7):\n",
        "    fpr, tpr, thresholds = metrics.roc_curve(Yte1_pri, prob[:,i], pos_label=i)\n",
        "    plt.plot(fpr,tpr,label='C'+str(i))\n",
        "    plt.legend()\n",
        "plt.xlabel('FPR')\n",
        "plt.ylabel('TPR')  \n",
        "plt.title('Receiver Operating Characteristic Curve of Private Data')"
      ],
      "execution_count": 0,
      "outputs": []
    },
    {
      "metadata": {
        "id": "9d9PGKLWoXw8",
        "colab_type": "text"
      },
      "cell_type": "markdown",
      "source": [
        "****"
      ]
    },
    {
      "metadata": {
        "id": "ABYFPIIHocHM",
        "colab_type": "text"
      },
      "cell_type": "markdown",
      "source": [
        "**Save** **Features**\n"
      ]
    },
    {
      "metadata": {
        "id": "4lAwE_LjLY1G",
        "colab_type": "code",
        "outputId": "f00b6215-b555-4019-9af5-bccbc2610b63",
        "colab": {
          "base_uri": "https://localhost:8080/",
          "height": 51
        }
      },
      "cell_type": "code",
      "source": [
        "ls"
      ],
      "execution_count": 0,
      "outputs": [
        {
          "output_type": "stream",
          "text": [
            "PrivateTest_feat.pickle  PublicTest_feat.pickle  Training_feat.pickle\n",
            "PrivateTest_lbl.pickle   PublicTest_lbl.pickle   Training_lbl.pickle\n"
          ],
          "name": "stdout"
        }
      ]
    },
    {
      "metadata": {
        "id": "Xrb_EX4im4SV",
        "colab_type": "code",
        "colab": {}
      },
      "cell_type": "code",
      "source": [
        "with open('Training_feat.pickle', 'wb') as handle1:\n",
        "    pickle.dump(Xtr, handle1)"
      ],
      "execution_count": 0,
      "outputs": []
    },
    {
      "metadata": {
        "id": "QTZyQsc83raK",
        "colab_type": "code",
        "colab": {}
      },
      "cell_type": "code",
      "source": [
        "with open('Training_lbl.pickle', 'wb') as handle2:\n",
        "    pickle.dump(Ytr, handle2)"
      ],
      "execution_count": 0,
      "outputs": []
    },
    {
      "metadata": {
        "id": "we3dJLwk3rcj",
        "colab_type": "code",
        "colab": {}
      },
      "cell_type": "code",
      "source": [
        "with open('PublicTest_feat.pickle', 'wb') as handle3:\n",
        "    pickle.dump(Xte_pub, handle3)"
      ],
      "execution_count": 0,
      "outputs": []
    },
    {
      "metadata": {
        "id": "lhM9V3oR3rfK",
        "colab_type": "code",
        "colab": {}
      },
      "cell_type": "code",
      "source": [
        "with open('PublicTest_lbl.pickle', 'wb') as handle4:\n",
        "    pickle.dump(Yte_pub, handle4)"
      ],
      "execution_count": 0,
      "outputs": []
    },
    {
      "metadata": {
        "id": "k6RrhzP31bod",
        "colab_type": "code",
        "colab": {}
      },
      "cell_type": "code",
      "source": [
        "with open('PrivateTest_feat.pickle', 'wb') as handle5:\n",
        "    pickle.dump(Xte_pri, handle5)"
      ],
      "execution_count": 0,
      "outputs": []
    },
    {
      "metadata": {
        "id": "WZxVDkMp1but",
        "colab_type": "code",
        "colab": {}
      },
      "cell_type": "code",
      "source": [
        "with open('PrivateTest_lbl.pickle', 'wb') as handle6:\n",
        "    pickle.dump(Yte_pri, handle6)"
      ],
      "execution_count": 0,
      "outputs": []
    },
    {
      "metadata": {
        "id": "3wmFSVoijYCD",
        "colab_type": "text"
      },
      "cell_type": "markdown",
      "source": [
        "**Misc work**"
      ]
    },
    {
      "metadata": {
        "id": "V3PuZjszwupW",
        "colab_type": "code",
        "colab": {}
      },
      "cell_type": "code",
      "source": [
        "import zipfile"
      ],
      "execution_count": 0,
      "outputs": []
    },
    {
      "metadata": {
        "id": "sTexPAwDu6fM",
        "colab_type": "code",
        "colab": {}
      },
      "cell_type": "code",
      "source": [
        "!unzip testData.zip"
      ],
      "execution_count": 0,
      "outputs": []
    },
    {
      "metadata": {
        "id": "OK5wTE5Nchv_",
        "colab_type": "code",
        "outputId": "a5a9e81f-41ba-4e0b-a158-b1e617f11d5d",
        "colab": {
          "base_uri": "https://localhost:8080/",
          "height": 180
        }
      },
      "cell_type": "code",
      "source": [
        "with ZipFile('testData.zip', 'r') as zipObj:\n",
        "     zipObj.extractall()"
      ],
      "execution_count": 0,
      "outputs": [
        {
          "output_type": "error",
          "ename": "TypeError",
          "evalue": "ignored",
          "traceback": [
            "\u001b[0;31m---------------------------------------------------------------------------\u001b[0m",
            "\u001b[0;31mTypeError\u001b[0m                                 Traceback (most recent call last)",
            "\u001b[0;32m<ipython-input-16-9cd8506686ca>\u001b[0m in \u001b[0;36m<module>\u001b[0;34m()\u001b[0m\n\u001b[0;32m----> 1\u001b[0;31m \u001b[0;32mwith\u001b[0m \u001b[0mZipFile\u001b[0m\u001b[0;34m(\u001b[0m\u001b[0;34m'testData.zip'\u001b[0m\u001b[0;34m,\u001b[0m \u001b[0;34m'r'\u001b[0m\u001b[0;34m)\u001b[0m \u001b[0;32mas\u001b[0m \u001b[0mzipObj\u001b[0m\u001b[0;34m:\u001b[0m\u001b[0;34m\u001b[0m\u001b[0;34m\u001b[0m\u001b[0m\n\u001b[0m\u001b[1;32m      2\u001b[0m      \u001b[0mzipObj\u001b[0m\u001b[0;34m.\u001b[0m\u001b[0mextractall\u001b[0m\u001b[0;34m(\u001b[0m\u001b[0;34m)\u001b[0m\u001b[0;34m\u001b[0m\u001b[0;34m\u001b[0m\u001b[0m\n",
            "\u001b[0;31mTypeError\u001b[0m: 'module' object is not callable"
          ]
        }
      ]
    },
    {
      "metadata": {
        "id": "rBfrWoV1T0NS",
        "colab_type": "text"
      },
      "cell_type": "markdown",
      "source": [
        "**References**"
      ]
    },
    {
      "metadata": {
        "id": "4n2q3SOWTz9-",
        "colab_type": "code",
        "colab": {}
      },
      "cell_type": "code",
      "source": [
        "[1] https://pytorch.org/tutorials/beginner/deep_learning_60min_blitz.html\n",
        "[2] https://pytorch.org/docs/stable/torchvision/models.html\n",
        "[3] https://pytorch.org/docs/stable/data.html\n",
        "[4] https://github.com/pytorch/vision/issues/81"
      ],
      "execution_count": 0,
      "outputs": []
    }
  ]
}