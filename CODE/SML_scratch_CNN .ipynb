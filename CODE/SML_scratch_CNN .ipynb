{
  "nbformat": 4,
  "nbformat_minor": 0,
  "metadata": {
    "colab": {
      "name": "SML_scratch_CNN.ipynb",
      "version": "0.3.2",
      "provenance": []
    },
    "kernelspec": {
      "name": "python3",
      "display_name": "Python 3"
    },
    "accelerator": "GPU"
  },
  "cells": [
    {
      "metadata": {
        "id": "Nma1zqzKv6iy",
        "colab_type": "code",
        "outputId": "a90abd71-51fa-45bd-c7d0-1de3baf026e4",
        "colab": {
          "base_uri": "https://localhost:8080/",
          "height": 122
        }
      },
      "cell_type": "code",
      "source": [
        "from google.colab import drive\n",
        "drive.mount('/content/gdrive')"
      ],
      "execution_count": 0,
      "outputs": [
        {
          "output_type": "stream",
          "text": [
            "Go to this URL in a browser: https://accounts.google.com/o/oauth2/auth?client_id=947318989803-6bn6qk8qdgf4n4g3pfee6491hc0brc4i.apps.googleusercontent.com&redirect_uri=urn%3Aietf%3Awg%3Aoauth%3A2.0%3Aoob&scope=email%20https%3A%2F%2Fwww.googleapis.com%2Fauth%2Fdocs.test%20https%3A%2F%2Fwww.googleapis.com%2Fauth%2Fdrive%20https%3A%2F%2Fwww.googleapis.com%2Fauth%2Fdrive.photos.readonly%20https%3A%2F%2Fwww.googleapis.com%2Fauth%2Fpeopleapi.readonly&response_type=code\n",
            "\n",
            "Enter your authorization code:\n",
            "··········\n",
            "Mounted at /content/gdrive\n"
          ],
          "name": "stdout"
        }
      ]
    },
    {
      "metadata": {
        "id": "Kx0ZYSuQwAIa",
        "colab_type": "code",
        "outputId": "7d2c9fbd-7095-42bb-cadc-6a5b32185ba5",
        "colab": {
          "base_uri": "https://localhost:8080/",
          "height": 34
        }
      },
      "cell_type": "code",
      "source": [
        "cd gdrive/My Drive/Colab/Project"
      ],
      "execution_count": 0,
      "outputs": [
        {
          "output_type": "stream",
          "text": [
            "/content/gdrive/My Drive/Colab/Project\n"
          ],
          "name": "stdout"
        }
      ]
    },
    {
      "metadata": {
        "id": "KzWHc7dHwU3r",
        "colab_type": "code",
        "outputId": "2a16c118-00d8-4ec3-c5b6-20dec5dd7666",
        "colab": {
          "base_uri": "https://localhost:8080/",
          "height": 34
        }
      },
      "cell_type": "code",
      "source": [
        "pwd"
      ],
      "execution_count": 0,
      "outputs": [
        {
          "output_type": "execute_result",
          "data": {
            "text/plain": [
              "'/content/gdrive/My Drive/Colab/Project'"
            ]
          },
          "metadata": {
            "tags": []
          },
          "execution_count": 42
        }
      ]
    },
    {
      "metadata": {
        "id": "mM9FXsq-ojNL",
        "colab_type": "code",
        "outputId": "be05431d-bfa7-42d7-a8c7-6412ae19c770",
        "colab": {
          "base_uri": "https://localhost:8080/",
          "height": 34
        }
      },
      "cell_type": "code",
      "source": [
        "from PIL import Image\n",
        "import seaborn as sns\n",
        "import matplotlib.pyplot as plt\n",
        "import numpy as np\n",
        "import glob\n",
        "import cv2 as cv\n",
        "import time\n",
        "import copy as cp\n",
        "import pandas as pd\n",
        "import pickle \n",
        "import time\n",
        "\n",
        "import torch\n",
        "from torch.utils import data\n",
        "import torch.nn as nn\n",
        "import torch.nn.functional as F\n",
        "import torchvision\n",
        "import torchvision.transforms as transforms\n",
        "import torch.optim as optim\n",
        "import warnings\n",
        "warnings.filterwarnings(\"ignore\")\n",
        "device = torch.device(\"cuda:0\" if torch.cuda.is_available() else \"cpu\")\n",
        "print(device)\n"
      ],
      "execution_count": 0,
      "outputs": [
        {
          "output_type": "stream",
          "text": [
            "cuda:0\n"
          ],
          "name": "stdout"
        }
      ]
    },
    {
      "metadata": {
        "id": "I4s2CPSNo4iC",
        "colab_type": "code",
        "colab": {}
      },
      "cell_type": "code",
      "source": [
        "def load1(path_train,path_test1,path_test2):\n",
        "    transform = transforms.Compose([transforms.ToTensor(),\n",
        "     transforms.Normalize((0.5, 0.5, 0.5), (0.5, 0.5, 0.5))])\n",
        "    batch_size=32\n",
        "    \n",
        "    trainloader = torch.utils.data.DataLoader(\n",
        "          ImageFilelist(root=path_train,lbl='Training', \n",
        "          transform=transform),\n",
        "          batch_size=batch_size, shuffle=True, pin_memory=True)\n",
        "    \n",
        "    testloader1 = torch.utils.data.DataLoader(\n",
        "          ImageFilelist(root=path_test1,lbl='PublicTest',\n",
        "          transform=transform),\n",
        "          batch_size=batch_size, shuffle=True, pin_memory=True)\n",
        "\n",
        "    testloader2 = torch.utils.data.DataLoader(\n",
        "          ImageFilelist(root=path_test2,lbl='PrivateTest',\n",
        "          transform=transform),\n",
        "          batch_size=batch_size, shuffle=True, pin_memory=True)\n",
        "\n",
        "          \n",
        "    return trainloader,testloader1,testloader2\n"
      ],
      "execution_count": 0,
      "outputs": []
    },
    {
      "metadata": {
        "id": "Ip4v0FM2o7ZZ",
        "colab_type": "code",
        "colab": {}
      },
      "cell_type": "code",
      "source": [
        "def train(trainloader,net):\n",
        "    trn=[]; lbl=[]; c=0; t=time.time()\n",
        "    with torch.no_grad():\n",
        "         for data1 in trainloader:\n",
        "             c+=1\n",
        "             if(c%100==0):\n",
        "                 print('Training: ',c,', Time: ',time.time()-t)\n",
        "                 t=time.time()\n",
        "             images, labels = data1\n",
        "             images, labels = torch.tensor(images), torch.tensor(labels)\n",
        "             images, labels = images.to(device), labels.to(device)\n",
        "             out = net(images)\n",
        "             for outputs in out:\n",
        "                trn.append(cp.deepcopy(np.array(outputs.cpu(),np.double)))\n",
        "             for label in labels:\n",
        "                lbl.append(cp.deepcopy(np.array(label.cpu(),np.int32)))\n",
        "    return np.array(trn),np.array(lbl)\n",
        "         \n",
        "    \n",
        "def test(testloader,net):\n",
        "    tst=[]; lbl=[]; c=0; t=time.time()\n",
        "    with torch.no_grad():\n",
        "         for data1 in testloader:\n",
        "             c+=1\n",
        "             if(c%50==0):\n",
        "                 print('Testing: ',c,', Time: ',time.time()-t)\n",
        "                 t=time.time()\n",
        "             images, labels = data1\n",
        "             images, labels = torch.tensor(images), torch.tensor(labels)\n",
        "             images, labels = images.to(device), labels.to(device)\n",
        "             out = net(images)\n",
        "             for outputs in out:  \n",
        "                tst.append(cp.deepcopy(np.array(outputs.cpu(),np.double)))\n",
        "             for label in labels:\n",
        "               lbl.append(cp.deepcopy(np.array(label.cpu(),np.int32)))\n",
        "    return np.array(tst),np.array(lbl)"
      ],
      "execution_count": 0,
      "outputs": []
    },
    {
      "metadata": {
        "id": "UZF25PF1o9ej",
        "colab_type": "code",
        "colab": {}
      },
      "cell_type": "code",
      "source": [
        " def default_flist_reader(flist,lbl):\n",
        "    imlist=[]\n",
        "    path='fer2013.csv'\n",
        "    data=pd.read_csv(path)\n",
        "    emotion={0:'Angry',1:'Disgust',2:'Fear',3:'Happy',4:'Sad', 5:'Surprise', 6:'Neutral'}\n",
        "    for i in range(len(data.pixels)):\n",
        "        if(lbl==data.Usage[i]):\n",
        "          im=np.array(data.pixels[i].split(' '),np.uint8)\n",
        "          im.shape=(48,48)\n",
        "          im=Image.fromarray(im).convert('RGB')\n",
        "          nm=data.emotion[i]\n",
        "          imlist.append(cp.deepcopy((im,nm)))    \n",
        "    print(len(imlist))\n",
        "    return imlist\n",
        "   \n",
        "class ImageFilelist(data.Dataset):\n",
        "     def __init__(self, root, transform=None,lbl='Training', target_transform=None,\n",
        "         flist_reader=default_flist_reader):\n",
        "         self.lbl=lbl\n",
        "         self.imlist = flist_reader(root,lbl)\n",
        "         self.transform = transform\n",
        "         self.target_transform = target_transform\n",
        "         \n",
        "   \n",
        "     def __getitem__(self, index):\n",
        "         img, target = self.imlist[index]\n",
        "         #img = self.loader(impath)\n",
        "         if self.transform is not None:\n",
        "            img = self.transform(img)\n",
        "         if self.target_transform is not None:\n",
        "            target = self.target_transform(target)\n",
        "         return img, target\n",
        "   \n",
        "     def __len__(self):\n",
        "         return len(self.imlist)\n"
      ],
      "execution_count": 0,
      "outputs": []
    },
    {
      "metadata": {
        "id": "kjDlQh3uo_gS",
        "colab_type": "code",
        "outputId": "bf44628e-4a7b-4d0e-a7ad-ce1a122f80ab",
        "colab": {
          "base_uri": "https://localhost:8080/",
          "height": 68
        }
      },
      "cell_type": "code",
      "source": [
        "p_trn='/Training/'\n",
        "p_tst1='/PublicTest/'\n",
        "p_tst2='/PrivateTest/'\n",
        "trainloader,testloader1,testloader2=load1(p_trn,p_tst1,p_tst2)"
      ],
      "execution_count": 0,
      "outputs": [
        {
          "output_type": "stream",
          "text": [
            "28709\n",
            "3589\n",
            "3589\n"
          ],
          "name": "stdout"
        }
      ]
    },
    {
      "metadata": {
        "id": "GhZGjVRlt_xe",
        "colab_type": "code",
        "colab": {}
      },
      "cell_type": "code",
      "source": [
        "def test(testloader):\n",
        "  correct = 0\n",
        "  total = 0\n",
        "  #L=[]; P=[]\n",
        "  with torch.no_grad():\n",
        "    for data in testloader:\n",
        "        images, labels = data\n",
        "        images, labels=images.to(device), labels.to(device)\n",
        "        outputs = net(images)\n",
        "        #for i in labels:\n",
        "        #  L.append(numpy.array(i.cpu()))\n",
        "        _, predicted = torch.max(outputs.data, 1)\n",
        "        #for i in predicted:\n",
        "        #   P.append(numpy.array(i.cpu()))\n",
        "        total += labels.size(0)\n",
        "        correct += (predicted == labels).sum().item()\n",
        "  \n",
        "  return 100 * (correct / total)"
      ],
      "execution_count": 0,
      "outputs": []
    },
    {
      "metadata": {
        "id": "Skg3FKUKpDxZ",
        "colab_type": "code",
        "outputId": "7eb03a95-9088-4cba-9099-4234ce890978",
        "colab": {
          "base_uri": "https://localhost:8080/",
          "height": 221
        }
      },
      "cell_type": "code",
      "source": [
        "class Net(nn.Module):\n",
        "    def __init__(self):\n",
        "        super(Net, self).__init__()\n",
        "        self.conv1 = nn.Conv2d(3, 6, 3)\n",
        "        self.pool = nn.MaxPool2d(2, 2)\n",
        "        self.conv2 = nn.Conv2d(6, 8, 5)\n",
        "        self.conv3 = nn.Conv2d(8, 12, 7)\n",
        "        self.conv4 = nn.Conv2d(12, 16, 3)\n",
        "        self.conv5 = nn.Conv2d(16, 32, 5)\n",
        "        self.conv6 = nn.Conv2d(32, 64, 7)\n",
        "        self.fc1 = nn.Linear(7*7*64, 800)\n",
        "        self.fc2 = nn.Linear(800, 140)\n",
        "        self.fc3 = nn.Linear(140, 7)\n",
        "\n",
        "    def forward(self, x):\n",
        "        x = F.relu(self.conv1(x))\n",
        "        x = F.relu(self.conv2(x))\n",
        "        x = F.relu(self.conv3(x))\n",
        "        x = self.pool(F.relu(self.conv4(x)))\n",
        "        x = F.relu(self.conv5(x))\n",
        "        x = F.relu(self.conv6(x))\n",
        "        x = x.view(-1,64*7*7)\n",
        "        x = F.relu(self.fc1(x))\n",
        "        x = F.relu(self.fc2(x))\n",
        "        x = self.fc3(x)\n",
        "        return x\n",
        "\n",
        "\n",
        "net = Net()\n",
        "net.to(device)"
      ],
      "execution_count": 0,
      "outputs": [
        {
          "output_type": "execute_result",
          "data": {
            "text/plain": [
              "Net(\n",
              "  (conv1): Conv2d(3, 6, kernel_size=(3, 3), stride=(1, 1))\n",
              "  (pool): MaxPool2d(kernel_size=2, stride=2, padding=0, dilation=1, ceil_mode=False)\n",
              "  (conv2): Conv2d(6, 8, kernel_size=(5, 5), stride=(1, 1))\n",
              "  (conv3): Conv2d(8, 12, kernel_size=(7, 7), stride=(1, 1))\n",
              "  (conv4): Conv2d(12, 16, kernel_size=(3, 3), stride=(1, 1))\n",
              "  (conv5): Conv2d(16, 32, kernel_size=(5, 5), stride=(1, 1))\n",
              "  (conv6): Conv2d(32, 64, kernel_size=(7, 7), stride=(1, 1))\n",
              "  (fc1): Linear(in_features=3136, out_features=800, bias=True)\n",
              "  (fc2): Linear(in_features=800, out_features=140, bias=True)\n",
              "  (fc3): Linear(in_features=140, out_features=7, bias=True)\n",
              ")"
            ]
          },
          "metadata": {
            "tags": []
          },
          "execution_count": 9
        }
      ]
    },
    {
      "metadata": {
        "id": "PnTwsGOEs_XR",
        "colab_type": "code",
        "colab": {}
      },
      "cell_type": "code",
      "source": [
        "criterion = nn.CrossEntropyLoss()\n",
        "optimizer = optim.SGD(net.parameters(), lr=0.001, momentum=0.9)"
      ],
      "execution_count": 0,
      "outputs": []
    },
    {
      "metadata": {
        "id": "y5frcHGdt8Fj",
        "colab_type": "code",
        "outputId": "66699ca5-aa6a-4035-db2b-305a49abb7f7",
        "colab": {
          "base_uri": "https://localhost:8080/",
          "height": 571
        }
      },
      "cell_type": "code",
      "source": [
        "x=[]; y1=[]; y2=[]; er=[]\n",
        "for epoch in range(1000):  \n",
        "    running_loss = 0.0\n",
        "    counter=0\n",
        "    for i, data in enumerate(trainloader, 0):\n",
        "        counter+=1\n",
        "        inputs, labels = data\n",
        "        inputs, labels =inputs.to(device), labels.to(device) \n",
        "        optimizer.zero_grad()\n",
        "\n",
        "        outputs = net(inputs)\n",
        "        #print(outputs)\n",
        "        loss = criterion(outputs, labels)\n",
        "        loss.backward()\n",
        "        optimizer.step()\n",
        "        running_loss += loss.item()    \n",
        "    acc_pub=test(testloader1)\n",
        "    acc_pri=test(testloader2)\n",
        "    print('[%d, %5d] loss: %.3f' %(epoch + 1, i + 1, running_loss),' | Accuracy--  val: %0.2f'%(acc_pub),' | test: %0.2f'%(acc_pri))\n",
        "    y1.append(acc_pub)\n",
        "    y2.append(acc_pri)\n",
        "    x.append(epoch)\n",
        "    er.append(running_loss)\n",
        "    if(epoch % 25 ==0):\n",
        "      torch.save({\n",
        "            'epoch': epoch,\n",
        "            'model_state_dict': net.state_dict(),\n",
        "            'optimizer_state_dict': optimizer.state_dict(),\n",
        "            'loss': running_loss,\n",
        "            }, '/hello')"
      ],
      "execution_count": 0,
      "outputs": [
        {
          "output_type": "stream",
          "text": [
            "[1,   898] loss: 3.012  | Accuracy--  val: 49.62  | test: 50.24\n",
            "[2,   898] loss: 3.006  | Accuracy--  val: 49.62  | test: 50.26\n",
            "[3,   898] loss: 2.997  | Accuracy--  val: 49.71  | test: 50.15\n",
            "[4,   898] loss: 3.035  | Accuracy--  val: 49.60  | test: 50.26\n",
            "[5,   898] loss: 3.041  | Accuracy--  val: 49.62  | test: 50.15\n",
            "[6,   898] loss: 3.029  | Accuracy--  val: 49.60  | test: 50.15\n",
            "[7,   898] loss: 3.004  | Accuracy--  val: 49.62  | test: 50.13\n",
            "[8,   898] loss: 3.005  | Accuracy--  val: 49.62  | test: 50.18\n",
            "[9,   898] loss: 3.019  | Accuracy--  val: 49.51  | test: 50.18\n",
            "[10,   898] loss: 3.007  | Accuracy--  val: 49.48  | test: 50.15\n",
            "[11,   898] loss: 3.007  | Accuracy--  val: 49.57  | test: 50.15\n",
            "[12,   898] loss: 3.001  | Accuracy--  val: 49.37  | test: 50.29\n",
            "[13,   898] loss: 3.009  | Accuracy--  val: 49.57  | test: 50.26\n"
          ],
          "name": "stdout"
        },
        {
          "output_type": "error",
          "ename": "KeyboardInterrupt",
          "evalue": "ignored",
          "traceback": [
            "\u001b[0;31m---------------------------------------------------------------------------\u001b[0m",
            "\u001b[0;31mKeyboardInterrupt\u001b[0m                         Traceback (most recent call last)",
            "\u001b[0;32m<ipython-input-27-dde71b83301e>\u001b[0m in \u001b[0;36m<module>\u001b[0;34m()\u001b[0m\n\u001b[1;32m     13\u001b[0m         \u001b[0mloss\u001b[0m \u001b[0;34m=\u001b[0m \u001b[0mcriterion\u001b[0m\u001b[0;34m(\u001b[0m\u001b[0moutputs\u001b[0m\u001b[0;34m,\u001b[0m \u001b[0mlabels\u001b[0m\u001b[0;34m)\u001b[0m\u001b[0;34m\u001b[0m\u001b[0;34m\u001b[0m\u001b[0m\n\u001b[1;32m     14\u001b[0m         \u001b[0mloss\u001b[0m\u001b[0;34m.\u001b[0m\u001b[0mbackward\u001b[0m\u001b[0;34m(\u001b[0m\u001b[0;34m)\u001b[0m\u001b[0;34m\u001b[0m\u001b[0;34m\u001b[0m\u001b[0m\n\u001b[0;32m---> 15\u001b[0;31m         \u001b[0moptimizer\u001b[0m\u001b[0;34m.\u001b[0m\u001b[0mstep\u001b[0m\u001b[0;34m(\u001b[0m\u001b[0;34m)\u001b[0m\u001b[0;34m\u001b[0m\u001b[0;34m\u001b[0m\u001b[0m\n\u001b[0m\u001b[1;32m     16\u001b[0m         \u001b[0mrunning_loss\u001b[0m \u001b[0;34m+=\u001b[0m \u001b[0mloss\u001b[0m\u001b[0;34m.\u001b[0m\u001b[0mitem\u001b[0m\u001b[0;34m(\u001b[0m\u001b[0;34m)\u001b[0m\u001b[0;34m\u001b[0m\u001b[0;34m\u001b[0m\u001b[0m\n\u001b[1;32m     17\u001b[0m     \u001b[0macc_pub\u001b[0m\u001b[0;34m=\u001b[0m\u001b[0mtest\u001b[0m\u001b[0;34m(\u001b[0m\u001b[0mtestloader1\u001b[0m\u001b[0;34m)\u001b[0m\u001b[0;34m\u001b[0m\u001b[0;34m\u001b[0m\u001b[0m\n",
            "\u001b[0;32m/usr/local/lib/python3.6/dist-packages/torch/optim/sgd.py\u001b[0m in \u001b[0;36mstep\u001b[0;34m(self, closure)\u001b[0m\n\u001b[1;32m     99\u001b[0m                     \u001b[0;32melse\u001b[0m\u001b[0;34m:\u001b[0m\u001b[0;34m\u001b[0m\u001b[0;34m\u001b[0m\u001b[0m\n\u001b[1;32m    100\u001b[0m                         \u001b[0mbuf\u001b[0m \u001b[0;34m=\u001b[0m \u001b[0mparam_state\u001b[0m\u001b[0;34m[\u001b[0m\u001b[0;34m'momentum_buffer'\u001b[0m\u001b[0;34m]\u001b[0m\u001b[0;34m\u001b[0m\u001b[0;34m\u001b[0m\u001b[0m\n\u001b[0;32m--> 101\u001b[0;31m                         \u001b[0mbuf\u001b[0m\u001b[0;34m.\u001b[0m\u001b[0mmul_\u001b[0m\u001b[0;34m(\u001b[0m\u001b[0mmomentum\u001b[0m\u001b[0;34m)\u001b[0m\u001b[0;34m.\u001b[0m\u001b[0madd_\u001b[0m\u001b[0;34m(\u001b[0m\u001b[0;36m1\u001b[0m \u001b[0;34m-\u001b[0m \u001b[0mdampening\u001b[0m\u001b[0;34m,\u001b[0m \u001b[0md_p\u001b[0m\u001b[0;34m)\u001b[0m\u001b[0;34m\u001b[0m\u001b[0;34m\u001b[0m\u001b[0m\n\u001b[0m\u001b[1;32m    102\u001b[0m                     \u001b[0;32mif\u001b[0m \u001b[0mnesterov\u001b[0m\u001b[0;34m:\u001b[0m\u001b[0;34m\u001b[0m\u001b[0;34m\u001b[0m\u001b[0m\n\u001b[1;32m    103\u001b[0m                         \u001b[0md_p\u001b[0m \u001b[0;34m=\u001b[0m \u001b[0md_p\u001b[0m\u001b[0;34m.\u001b[0m\u001b[0madd\u001b[0m\u001b[0;34m(\u001b[0m\u001b[0mmomentum\u001b[0m\u001b[0;34m,\u001b[0m \u001b[0mbuf\u001b[0m\u001b[0;34m)\u001b[0m\u001b[0;34m\u001b[0m\u001b[0;34m\u001b[0m\u001b[0m\n",
            "\u001b[0;31mKeyboardInterrupt\u001b[0m: "
          ]
        }
      ]
    },
    {
      "metadata": {
        "id": "0O2KXYYCAnQv",
        "colab_type": "code",
        "outputId": "f5a42eb1-8417-4926-ca5c-25d7e20f7e26",
        "colab": {
          "base_uri": "https://localhost:8080/",
          "height": 312
        }
      },
      "cell_type": "code",
      "source": [
        "plt.plot(x,y1,label='validation acccuracy')\n",
        "plt.plot(x,y2,label='testing accuracy')\n",
        "plt.xlabel('epoch')\n",
        "plt.ylabel('Accuracy')\n",
        "plt.legend()\n",
        "plt.title('Training Error plot')"
      ],
      "execution_count": 0,
      "outputs": [
        {
          "output_type": "execute_result",
          "data": {
            "text/plain": [
              "Text(0.5, 1.0, 'Training Error plot')"
            ]
          },
          "metadata": {
            "tags": []
          },
          "execution_count": 21
        },
        {
          "output_type": "display_data",
          "data": {
            "image/png": "[encoded data removed]",
            "text/plain": [
              "<Figure size 432x288 with 1 Axes>"
            ]
          },
          "metadata": {
            "tags": []
          }
        }
      ]
    },
    {
      "metadata": {
        "id": "r0eclf6pD5_s",
        "colab_type": "code",
        "outputId": "f6e72970-fe0f-49a8-8622-e18673e9b5d0",
        "colab": {
          "base_uri": "https://localhost:8080/",
          "height": 300
        }
      },
      "cell_type": "code",
      "source": [
        "plt.plot(x,er)\n",
        "plt.xlabel('epouch')\n",
        "plt.ylabel('Cross Entropy Loss')"
      ],
      "execution_count": 0,
      "outputs": [
        {
          "output_type": "execute_result",
          "data": {
            "text/plain": [
              "Text(0, 0.5, 'Cross Entropy Loss')"
            ]
          },
          "metadata": {
            "tags": []
          },
          "execution_count": 22
        },
        {
          "output_type": "display_data",
          "data": {
            "image/png": "[encoded data removed]",
            "text/plain": [
              "<Figure size 432x288 with 1 Axes>"
            ]
          },
          "metadata": {
            "tags": []
          }
        }
      ]
    },
    {
      "metadata": {
        "id": "DLnz0S4tAoIt",
        "colab_type": "code",
        "colab": {}
      },
      "cell_type": "code",
      "source": [
        "torch.save(net,'/hello')"
      ],
      "execution_count": 0,
      "outputs": []
    },
    {
      "metadata": {
        "id": "egmVzoxQf2sB",
        "colab_type": "code",
        "colab": {}
      },
      "cell_type": "code",
      "source": [
        "import pickle\n",
        "with open(\"net9_1.pickle\", \"wb\") as output_file:\n",
        "     pickle.dump(net, output_file)"
      ],
      "execution_count": 0,
      "outputs": []
    },
    {
      "metadata": {
        "id": "TVdBlZWugeRw",
        "colab_type": "code",
        "colab": {}
      },
      "cell_type": "code",
      "source": [
        ""
      ],
      "execution_count": 0,
      "outputs": []
    },
    {
      "metadata": {
        "id": "_PC3FKA8geUN",
        "colab_type": "code",
        "outputId": "cf44e343-37b2-4b46-f647-6e0f739420ce",
        "colab": {
          "base_uri": "https://localhost:8080/",
          "height": 34
        }
      },
      "cell_type": "code",
      "source": [
        "pwd"
      ],
      "execution_count": 0,
      "outputs": [
        {
          "output_type": "execute_result",
          "data": {
            "text/plain": [
              "'/content/gdrive/My Drive/Colab/Project'"
            ]
          },
          "metadata": {
            "tags": []
          },
          "execution_count": 19
        }
      ]
    },
    {
      "metadata": {
        "id": "sfn2ejO6GFGs",
        "colab_type": "code",
        "colab": {}
      },
      "cell_type": "code",
      "source": [
        " torch.save({\n",
        "            'epoch': epoch,\n",
        "            'model_state_dict': net.state_dict(),\n",
        "            'optimizer_state_dict': optimizer.state_dict(),\n",
        "            'loss': running_loss,\n",
        "            }, '/hello')\n",
        "      "
      ],
      "execution_count": 0,
      "outputs": []
    },
    {
      "metadata": {
        "id": "gtKuUxuVUI6I",
        "colab_type": "text"
      },
      "cell_type": "markdown",
      "source": [
        "**References**"
      ]
    },
    {
      "metadata": {
        "id": "JpyemLDBUIzA",
        "colab_type": "code",
        "colab": {}
      },
      "cell_type": "code",
      "source": [
        "[1] https://pytorch.org/tutorials/beginner/deep_learning_60min_blitz.html\n",
        "[2] https://pytorch.org/docs/stable/torchvision/models.html\n",
        "[3] https://pytorch.org/docs/stable/data.html\n",
        "[4] https://github.com/pytorch/vision/issues/81"
      ],
      "execution_count": 0,
      "outputs": []
    }
  ]
}